{
  "cells": [
    {
      "cell_type": "code",
      "source": [],
      "metadata": {
        "id": "AovtW8b4CMUl"
      },
      "execution_count": null,
      "outputs": []
    },
    {
      "cell_type": "markdown",
      "source": [
        "**LOGISTIC REGRESSION**"
      ],
      "metadata": {
        "id": "8RE-d6mCGrGc"
      }
    },
    {
      "cell_type": "code",
      "source": [
        "from google.colab import drive\n",
        "drive.mount('/content/drive')"
      ],
      "metadata": {
        "id": "An3Mw9-PFMh7",
        "colab": {
          "base_uri": "https://localhost:8080/"
        },
        "outputId": "d50fe69b-2415-4db2-e2a0-50ae85aed804"
      },
      "execution_count": 2,
      "outputs": [
        {
          "output_type": "stream",
          "name": "stdout",
          "text": [
            "Mounted at /content/drive\n"
          ]
        }
      ]
    },
    {
      "cell_type": "code",
      "source": [
        "import pandas as pd\n",
        "import numpy as np\n",
        "import matplotlib.pyplot as plt\n",
        "from sklearn.linear_model import LogisticRegression\n",
        "from sklearn.model_selection import train_test_split\n",
        "from sklearn.metrics import confusion_matrix, accuracy_score"
      ],
      "metadata": {
        "id": "rt7G4mhF6pgQ"
      },
      "execution_count": 3,
      "outputs": []
    },
    {
      "cell_type": "code",
      "source": [
        "data=pd.read_excel(\"/content/drive/MyDrive/data.xlsx\")"
      ],
      "metadata": {
        "id": "XprjYDCWITqe"
      },
      "execution_count": 4,
      "outputs": []
    },
    {
      "cell_type": "code",
      "source": [
        "data.shape"
      ],
      "metadata": {
        "id": "eY_TvfG9Iudh",
        "colab": {
          "base_uri": "https://localhost:8080/"
        },
        "outputId": "fe7b533f-7065-4c94-fe02-613f57764a11"
      },
      "execution_count": 5,
      "outputs": [
        {
          "output_type": "execute_result",
          "data": {
            "text/plain": [
              "(4244, 1001)"
            ]
          },
          "metadata": {},
          "execution_count": 5
        }
      ]
    },
    {
      "cell_type": "code",
      "source": [
        "x=data.iloc[:,0:1000].values\n",
        "y=data.iloc[:, 1000].values"
      ],
      "metadata": {
        "id": "e9wh8FnKVYyh"
      },
      "execution_count": 6,
      "outputs": []
    },
    {
      "cell_type": "code",
      "source": [
        "from sklearn.model_selection import train_test_split\n",
        "\n",
        "xtrain, xtest, ytrain, ytest = train_test_split(\n",
        "    x, y, test_size=0.25, random_state=0)"
      ],
      "metadata": {
        "id": "pkV4_c4tXwTO"
      },
      "execution_count": 7,
      "outputs": []
    },
    {
      "cell_type": "code",
      "source": [
        "from sklearn.preprocessing import StandardScaler\n",
        "\n",
        "sc_x = StandardScaler()\n",
        "xtrain = sc_x.fit_transform(xtrain)\n",
        "xtest = sc_x.transform(xtest)\n",
        "\n",
        "print (xtrain[0:10, :])"
      ],
      "metadata": {
        "id": "7a7PvkDuYQNP",
        "colab": {
          "base_uri": "https://localhost:8080/"
        },
        "outputId": "e7092e3a-0df6-4ebb-ae82-1df2034c1e5c"
      },
      "execution_count": 8,
      "outputs": [
        {
          "output_type": "stream",
          "name": "stdout",
          "text": [
            "[[-1.01024436 -1.52958491 -0.74497572 ... -0.18399904  2.12169923\n",
            "  -1.1096026 ]\n",
            " [-0.55891025 -0.10010184  0.60541203 ...  1.10347879 -0.67134155\n",
            "   1.13840019]\n",
            " [-0.06036957 -0.82563648  0.98964954 ... -0.19341851 -0.73950423\n",
            "   1.29353965]\n",
            " ...\n",
            " [-0.79105741  0.46483064  1.063703   ...  0.53949451 -0.9382912\n",
            "  -0.19132343]\n",
            " [ 1.30473157 -0.95604364 -0.96047648 ...  0.6538837   0.16479929\n",
            "   0.27474186]\n",
            " [ 0.82412266  0.16501304  1.04400927 ...  1.15934636  1.32237562\n",
            "   0.62534148]]\n"
          ]
        }
      ]
    },
    {
      "cell_type": "code",
      "source": [
        "#train the model\n",
        "from sklearn.linear_model import LogisticRegression\n",
        "\n",
        "classifier = LogisticRegression(random_state = 0)\n",
        "classifier.fit(xtrain, ytrain)"
      ],
      "metadata": {
        "id": "bX0cqX4_YQS1",
        "colab": {
          "base_uri": "https://localhost:8080/",
          "height": 220
        },
        "outputId": "ce0c75f6-e11d-4a68-af58-ec37b8187713"
      },
      "execution_count": 9,
      "outputs": [
        {
          "output_type": "stream",
          "name": "stderr",
          "text": [
            "/usr/local/lib/python3.10/dist-packages/sklearn/linear_model/_logistic.py:458: ConvergenceWarning: lbfgs failed to converge (status=1):\n",
            "STOP: TOTAL NO. of ITERATIONS REACHED LIMIT.\n",
            "\n",
            "Increase the number of iterations (max_iter) or scale the data as shown in:\n",
            "    https://scikit-learn.org/stable/modules/preprocessing.html\n",
            "Please also refer to the documentation for alternative solver options:\n",
            "    https://scikit-learn.org/stable/modules/linear_model.html#logistic-regression\n",
            "  n_iter_i = _check_optimize_result(\n"
          ]
        },
        {
          "output_type": "execute_result",
          "data": {
            "text/plain": [
              "LogisticRegression(random_state=0)"
            ],
            "text/html": [
              "<style>#sk-container-id-1 {color: black;background-color: white;}#sk-container-id-1 pre{padding: 0;}#sk-container-id-1 div.sk-toggleable {background-color: white;}#sk-container-id-1 label.sk-toggleable__label {cursor: pointer;display: block;width: 100%;margin-bottom: 0;padding: 0.3em;box-sizing: border-box;text-align: center;}#sk-container-id-1 label.sk-toggleable__label-arrow:before {content: \"▸\";float: left;margin-right: 0.25em;color: #696969;}#sk-container-id-1 label.sk-toggleable__label-arrow:hover:before {color: black;}#sk-container-id-1 div.sk-estimator:hover label.sk-toggleable__label-arrow:before {color: black;}#sk-container-id-1 div.sk-toggleable__content {max-height: 0;max-width: 0;overflow: hidden;text-align: left;background-color: #f0f8ff;}#sk-container-id-1 div.sk-toggleable__content pre {margin: 0.2em;color: black;border-radius: 0.25em;background-color: #f0f8ff;}#sk-container-id-1 input.sk-toggleable__control:checked~div.sk-toggleable__content {max-height: 200px;max-width: 100%;overflow: auto;}#sk-container-id-1 input.sk-toggleable__control:checked~label.sk-toggleable__label-arrow:before {content: \"▾\";}#sk-container-id-1 div.sk-estimator input.sk-toggleable__control:checked~label.sk-toggleable__label {background-color: #d4ebff;}#sk-container-id-1 div.sk-label input.sk-toggleable__control:checked~label.sk-toggleable__label {background-color: #d4ebff;}#sk-container-id-1 input.sk-hidden--visually {border: 0;clip: rect(1px 1px 1px 1px);clip: rect(1px, 1px, 1px, 1px);height: 1px;margin: -1px;overflow: hidden;padding: 0;position: absolute;width: 1px;}#sk-container-id-1 div.sk-estimator {font-family: monospace;background-color: #f0f8ff;border: 1px dotted black;border-radius: 0.25em;box-sizing: border-box;margin-bottom: 0.5em;}#sk-container-id-1 div.sk-estimator:hover {background-color: #d4ebff;}#sk-container-id-1 div.sk-parallel-item::after {content: \"\";width: 100%;border-bottom: 1px solid gray;flex-grow: 1;}#sk-container-id-1 div.sk-label:hover label.sk-toggleable__label {background-color: #d4ebff;}#sk-container-id-1 div.sk-serial::before {content: \"\";position: absolute;border-left: 1px solid gray;box-sizing: border-box;top: 0;bottom: 0;left: 50%;z-index: 0;}#sk-container-id-1 div.sk-serial {display: flex;flex-direction: column;align-items: center;background-color: white;padding-right: 0.2em;padding-left: 0.2em;position: relative;}#sk-container-id-1 div.sk-item {position: relative;z-index: 1;}#sk-container-id-1 div.sk-parallel {display: flex;align-items: stretch;justify-content: center;background-color: white;position: relative;}#sk-container-id-1 div.sk-item::before, #sk-container-id-1 div.sk-parallel-item::before {content: \"\";position: absolute;border-left: 1px solid gray;box-sizing: border-box;top: 0;bottom: 0;left: 50%;z-index: -1;}#sk-container-id-1 div.sk-parallel-item {display: flex;flex-direction: column;z-index: 1;position: relative;background-color: white;}#sk-container-id-1 div.sk-parallel-item:first-child::after {align-self: flex-end;width: 50%;}#sk-container-id-1 div.sk-parallel-item:last-child::after {align-self: flex-start;width: 50%;}#sk-container-id-1 div.sk-parallel-item:only-child::after {width: 0;}#sk-container-id-1 div.sk-dashed-wrapped {border: 1px dashed gray;margin: 0 0.4em 0.5em 0.4em;box-sizing: border-box;padding-bottom: 0.4em;background-color: white;}#sk-container-id-1 div.sk-label label {font-family: monospace;font-weight: bold;display: inline-block;line-height: 1.2em;}#sk-container-id-1 div.sk-label-container {text-align: center;}#sk-container-id-1 div.sk-container {/* jupyter's `normalize.less` sets `[hidden] { display: none; }` but bootstrap.min.css set `[hidden] { display: none !important; }` so we also need the `!important` here to be able to override the default hidden behavior on the sphinx rendered scikit-learn.org. See: https://github.com/scikit-learn/scikit-learn/issues/21755 */display: inline-block !important;position: relative;}#sk-container-id-1 div.sk-text-repr-fallback {display: none;}</style><div id=\"sk-container-id-1\" class=\"sk-top-container\"><div class=\"sk-text-repr-fallback\"><pre>LogisticRegression(random_state=0)</pre><b>In a Jupyter environment, please rerun this cell to show the HTML representation or trust the notebook. <br />On GitHub, the HTML representation is unable to render, please try loading this page with nbviewer.org.</b></div><div class=\"sk-container\" hidden><div class=\"sk-item\"><div class=\"sk-estimator sk-toggleable\"><input class=\"sk-toggleable__control sk-hidden--visually\" id=\"sk-estimator-id-1\" type=\"checkbox\" checked><label for=\"sk-estimator-id-1\" class=\"sk-toggleable__label sk-toggleable__label-arrow\">LogisticRegression</label><div class=\"sk-toggleable__content\"><pre>LogisticRegression(random_state=0)</pre></div></div></div></div></div>"
            ]
          },
          "metadata": {},
          "execution_count": 9
        }
      ]
    },
    {
      "cell_type": "code",
      "source": [
        "y_pred = classifier.predict(xtest)"
      ],
      "metadata": {
        "id": "OfM3Qr5VYQVz"
      },
      "execution_count": 10,
      "outputs": []
    },
    {
      "cell_type": "code",
      "source": [
        "#evaluation matrix\n",
        "\n",
        "from sklearn.metrics import confusion_matrix\n",
        "\n",
        "cm = confusion_matrix(ytest, y_pred)\n",
        "print (\"Confusion Matrix : \\n\", cm)"
      ],
      "metadata": {
        "id": "UyE23T6KYQYr",
        "colab": {
          "base_uri": "https://localhost:8080/"
        },
        "outputId": "427bcc33-b46e-45ad-e625-861ce0378e54"
      },
      "execution_count": 11,
      "outputs": [
        {
          "output_type": "stream",
          "name": "stdout",
          "text": [
            "Confusion Matrix : \n",
            " [[ 82  26   0   0  16   2]\n",
            " [ 42  13   0   0   5   1]\n",
            " [  0   0 116 109   0   0]\n",
            " [  0   0 130 111   0   0]\n",
            " [ 21   7   0   0  13   1]\n",
            " [  0   0   0   0   0 366]]\n"
          ]
        }
      ]
    },
    {
      "cell_type": "code",
      "source": [
        "from sklearn.metrics import accuracy_score\n",
        "\n",
        "print (\"Accuracy : \", accuracy_score(ytest, y_pred))"
      ],
      "metadata": {
        "id": "Aegx0EraYhAf",
        "colab": {
          "base_uri": "https://localhost:8080/"
        },
        "outputId": "2dab6a4a-3205-46e4-d6c2-73c08c22fb38"
      },
      "execution_count": 12,
      "outputs": [
        {
          "output_type": "stream",
          "name": "stdout",
          "text": [
            "Accuracy :  0.6606974552309143\n"
          ]
        }
      ]
    },
    {
      "cell_type": "code",
      "source": [
        "# Print the Confusion Matrix and slice it into four pieces\n",
        "\n",
        "from sklearn.metrics import confusion_matrix\n",
        "\n",
        "cm = confusion_matrix(ytest, y_pred)\n",
        "\n",
        "print('Confusion matrix\\n\\n', cm)\n",
        "\n",
        "print('\\nTrue Positives(TP) = ', cm[0,0])\n",
        "\n",
        "print('\\nTrue Negatives(TN) = ', cm[1,1])\n",
        "\n",
        "print('\\nFalse Positives(FP) = ', cm[0,1])\n",
        "\n",
        "print('\\nFalse Negatives(FN) = ', cm[1,0])"
      ],
      "metadata": {
        "id": "_VFN-NeUYhJT",
        "colab": {
          "base_uri": "https://localhost:8080/"
        },
        "outputId": "0477bf65-b0ae-43fb-8a41-6d13752ab686"
      },
      "execution_count": 13,
      "outputs": [
        {
          "output_type": "stream",
          "name": "stdout",
          "text": [
            "Confusion matrix\n",
            "\n",
            " [[ 82  26   0   0  16   2]\n",
            " [ 42  13   0   0   5   1]\n",
            " [  0   0 116 109   0   0]\n",
            " [  0   0 130 111   0   0]\n",
            " [ 21   7   0   0  13   1]\n",
            " [  0   0   0   0   0 366]]\n",
            "\n",
            "True Positives(TP) =  82\n",
            "\n",
            "True Negatives(TN) =  13\n",
            "\n",
            "False Positives(FP) =  26\n",
            "\n",
            "False Negatives(FN) =  42\n"
          ]
        }
      ]
    },
    {
      "cell_type": "code",
      "source": [
        "from sklearn.metrics import classification_report\n",
        "print(classification_report(ytest, y_pred))\n",
        "\n",
        "TP = cm[0,0]\n",
        "TN = cm[1,1]\n",
        "FP = cm[0,1]\n",
        "FN = cm[1,0]"
      ],
      "metadata": {
        "id": "5hCfAgBEfB8N",
        "colab": {
          "base_uri": "https://localhost:8080/"
        },
        "outputId": "17f02317-d182-4179-a128-890783d98d60"
      },
      "execution_count": 14,
      "outputs": [
        {
          "output_type": "stream",
          "name": "stdout",
          "text": [
            "              precision    recall  f1-score   support\n",
            "\n",
            "           1       0.57      0.65      0.61       126\n",
            "           2       0.28      0.21      0.24        61\n",
            "           3       0.47      0.52      0.49       225\n",
            "           4       0.50      0.46      0.48       241\n",
            "           5       0.38      0.31      0.34        42\n",
            "           6       0.99      1.00      0.99       366\n",
            "\n",
            "    accuracy                           0.66      1061\n",
            "   macro avg       0.53      0.52      0.53      1061\n",
            "weighted avg       0.65      0.66      0.66      1061\n",
            "\n"
          ]
        }
      ]
    },
    {
      "cell_type": "code",
      "source": [],
      "metadata": {
        "id": "Ms7ujgF5oujK"
      },
      "execution_count": 14,
      "outputs": []
    },
    {
      "cell_type": "markdown",
      "source": [
        "**NAIVE BAYES**"
      ],
      "metadata": {
        "id": "iNSAyggOGjkU"
      }
    },
    {
      "cell_type": "code",
      "source": [
        "import pandas as pd\n",
        "import numpy as np\n",
        "from sklearn import datasets\n",
        "import matplotlib.pyplot as plt # for data visualization purposes\n",
        "import seaborn as sns # for statistical data visualization\n"
      ],
      "metadata": {
        "id": "e93U_vFmirpd"
      },
      "execution_count": 16,
      "outputs": []
    },
    {
      "cell_type": "code",
      "source": [
        "print(data.head(),data.shape)"
      ],
      "metadata": {
        "id": "4kRHhFpmix1T",
        "colab": {
          "base_uri": "https://localhost:8080/"
        },
        "outputId": "5a881a12-ef31-4455-e48c-d6ce6a7291e2"
      },
      "execution_count": 18,
      "outputs": [
        {
          "output_type": "stream",
          "name": "stdout",
          "text": [
            "   -4.531595  -0.540618  -3.134417  -3.529312  -1.836297  -0.181893  \\\n",
            "0  -0.700899  -0.397490  -0.466649  -1.310355   0.883317   3.048673   \n",
            "1  -2.747860   0.381365  -2.609185  -2.270594  -0.799617   2.579102   \n",
            "2  -3.789822  -1.745898  -2.479308  -2.126775   0.895515  -0.258750   \n",
            "3  -2.530930   0.794386  -0.999440  -2.038632   0.778601   3.664792   \n",
            "4  -2.964701  -2.042924  -3.688849  -2.426204   0.242016   1.198319   \n",
            "\n",
            "   -1.470371  -1.574101  -2.625470  -0.991899  ...  -0.760977  -2.516998  \\\n",
            "0   1.764694  -2.293167  -2.336639  -0.768678  ...  -1.685995  -2.139176   \n",
            "1  -1.349673  -2.677015  -3.113053  -1.892761  ...  -1.384624  -3.375077   \n",
            "2  -1.588678  -2.524915  -3.192336  -0.249713  ...  -0.648321  -2.332225   \n",
            "3   1.148216  -0.423568  -1.666079   0.785010  ...  -0.343255  -1.126905   \n",
            "4  -1.261189  -1.760720  -2.536230   0.774378  ...  -0.537261  -1.822949   \n",
            "\n",
            "   -2.030744  -2.159886  -2.383677  -1.000806  -3.190276   0.977118  \\\n",
            "0  -4.317210  -2.027677  -2.459832  -1.882090  -2.754789   2.485973   \n",
            "1  -3.123150  -0.903040  -1.401981  -1.389471  -2.560943   1.222017   \n",
            "2  -2.804142  -1.723168  -2.481513  -2.133092  -3.083370   1.252151   \n",
            "3  -1.844835  -2.002370  -1.331232  -0.211108  -1.251065   1.926199   \n",
            "4  -2.829171  -1.111517  -0.816552   0.043357  -1.702155   0.967810   \n",
            "\n",
            "   -0.233590   5.000000  \n",
            "0  -1.128134          5  \n",
            "1  -1.081256          5  \n",
            "2  -1.054691          5  \n",
            "3  -1.050723          5  \n",
            "4  -0.122419          5  \n",
            "\n",
            "[5 rows x 1001 columns] (4244, 1001)\n"
          ]
        }
      ]
    },
    {
      "cell_type": "code",
      "source": [
        "print(len(data))"
      ],
      "metadata": {
        "id": "42wy9GlYi_2-",
        "colab": {
          "base_uri": "https://localhost:8080/"
        },
        "outputId": "68d4614e-cdea-4dfe-9829-99d30cf6ec2f"
      },
      "execution_count": 19,
      "outputs": [
        {
          "output_type": "stream",
          "name": "stdout",
          "text": [
            "4244\n"
          ]
        }
      ]
    },
    {
      "cell_type": "code",
      "source": [
        "#x=data[:,[0:999]]\n",
        "x=data.iloc[:,0:1000].values\n",
        "y=data.iloc[:, 1000].values\n",
        "#dataset.iloc[:, [2, 3]].values"
      ],
      "metadata": {
        "id": "1kxIOMYOi_53"
      },
      "execution_count": 20,
      "outputs": []
    },
    {
      "cell_type": "code",
      "source": [
        "print(x.shape,y.shape)"
      ],
      "metadata": {
        "id": "8XEMPwsRjiSl",
        "colab": {
          "base_uri": "https://localhost:8080/"
        },
        "outputId": "addf6765-f7ef-4bfa-e619-4a7a90b9b69d"
      },
      "execution_count": 21,
      "outputs": [
        {
          "output_type": "stream",
          "name": "stdout",
          "text": [
            "(4244, 1000) (4244,)\n"
          ]
        }
      ]
    },
    {
      "cell_type": "code",
      "source": [
        "from sklearn.model_selection import train_test_split\n",
        "X_train,X_test,y_train,y_test=train_test_split(x,y,test_size=0.2,random_state=9)"
      ],
      "metadata": {
        "id": "VXhiK9aii_8l"
      },
      "execution_count": 22,
      "outputs": []
    },
    {
      "cell_type": "code",
      "source": [
        "\n",
        "from sklearn.preprocessing import RobustScaler\n",
        "\n",
        "scaler = RobustScaler()\n",
        "\n",
        "X_train = scaler.fit_transform(X_train)\n",
        "\n",
        "X_test = scaler.transform(X_test)"
      ],
      "metadata": {
        "id": "PkVOeNzBjNnR"
      },
      "execution_count": 23,
      "outputs": []
    },
    {
      "cell_type": "code",
      "source": [
        "from sklearn.naive_bayes import GaussianNB\n",
        "nv = GaussianNB()\n",
        "nv.fit(X_train,y_train)\n",
        "\n",
        "from sklearn.metrics import accuracy_score\n",
        "\n",
        "y_pred = nv.predict(X_test)\n",
        "\n",
        "print(accuracy_score(y_test,y_pred))\n"
      ],
      "metadata": {
        "id": "Y6cw8P_HjNqa",
        "colab": {
          "base_uri": "https://localhost:8080/"
        },
        "outputId": "41911e80-4400-4d24-c08b-f1d3c139aa7d"
      },
      "execution_count": 24,
      "outputs": [
        {
          "output_type": "stream",
          "name": "stdout",
          "text": [
            "0.6336866902237926\n"
          ]
        }
      ]
    },
    {
      "cell_type": "code",
      "source": [
        "\n",
        "from sklearn.metrics import confusion_matrix\n",
        "cm=confusion_matrix(y_pred,y_test)\n",
        "print(cm)"
      ],
      "metadata": {
        "id": "VMHY0Bfijylo",
        "colab": {
          "base_uri": "https://localhost:8080/"
        },
        "outputId": "351f401d-bc54-4d2e-885c-bcad00ebc760"
      },
      "execution_count": 25,
      "outputs": [
        {
          "output_type": "stream",
          "name": "stdout",
          "text": [
            "[[ 38  16   0   1  10   6]\n",
            " [ 28   8   0   0   1   7]\n",
            " [  0   0 100  96   0   0]\n",
            " [  0   0  81  85   0   0]\n",
            " [ 30  13   0   1  17   5]\n",
            " [ 10   3   0   0   3 290]]\n"
          ]
        }
      ]
    },
    {
      "cell_type": "code",
      "source": [
        "# Print the Confusion Matrix and slice it into four pieces\n",
        "\n",
        "from sklearn.metrics import confusion_matrix\n",
        "\n",
        "cm = confusion_matrix(y_test, y_pred)\n",
        "\n",
        "print('Confusion matrix\\n\\n', cm)\n",
        "\n",
        "print('\\nTrue Positives(TP) = ', cm[0,0])\n",
        "\n",
        "print('\\nTrue Negatives(TN) = ', cm[1,1])\n",
        "\n",
        "print('\\nFalse Positives(FP) = ', cm[0,1])\n",
        "\n",
        "print('\\nFalse Negatives(FN) = ', cm[1,0])\n",
        "\n"
      ],
      "metadata": {
        "id": "xmqYj8wRj4hT",
        "colab": {
          "base_uri": "https://localhost:8080/"
        },
        "outputId": "0de2e827-fa9f-4ad0-9a8f-92f06eba1a87"
      },
      "execution_count": 26,
      "outputs": [
        {
          "output_type": "stream",
          "name": "stdout",
          "text": [
            "Confusion matrix\n",
            "\n",
            " [[ 38  28   0   0  30  10]\n",
            " [ 16   8   0   0  13   3]\n",
            " [  0   0 100  81   0   0]\n",
            " [  1   0  96  85   1   0]\n",
            " [ 10   1   0   0  17   3]\n",
            " [  6   7   0   0   5 290]]\n",
            "\n",
            "True Positives(TP) =  38\n",
            "\n",
            "True Negatives(TN) =  8\n",
            "\n",
            "False Positives(FP) =  28\n",
            "\n",
            "False Negatives(FN) =  16\n"
          ]
        }
      ]
    },
    {
      "cell_type": "code",
      "source": [
        "from sklearn.metrics import classification_report\n",
        "print(classification_report(y_pred,y_test))\n",
        "\n",
        "TP = cm[0,0]\n",
        "TN = cm[1,1]\n",
        "FP = cm[0,1]\n",
        "FN = cm[1,0]"
      ],
      "metadata": {
        "id": "RePinH3xkReC",
        "colab": {
          "base_uri": "https://localhost:8080/"
        },
        "outputId": "b1ca6a19-6794-4835-919b-c342410c4cca"
      },
      "execution_count": 27,
      "outputs": [
        {
          "output_type": "stream",
          "name": "stdout",
          "text": [
            "              precision    recall  f1-score   support\n",
            "\n",
            "           1       0.36      0.54      0.43        71\n",
            "           2       0.20      0.18      0.19        44\n",
            "           3       0.55      0.51      0.53       196\n",
            "           4       0.46      0.51      0.49       166\n",
            "           5       0.55      0.26      0.35        66\n",
            "           6       0.94      0.95      0.94       306\n",
            "\n",
            "    accuracy                           0.63       849\n",
            "   macro avg       0.51      0.49      0.49       849\n",
            "weighted avg       0.64      0.63      0.63       849\n",
            "\n"
          ]
        }
      ]
    },
    {
      "cell_type": "code",
      "source": [
        "# print classification accuracy\n",
        "\n",
        "classification_accuracy = (TP + TN) / float(TP + TN + FP + FN)\n",
        "\n",
        "print('Classification accuracy : {0:0.4f}'.format(classification_accuracy))\n",
        "\n",
        "# print classification error\n",
        "\n",
        "classification_error = (FP + FN) / float(TP + TN + FP + FN)\n",
        "\n",
        "print('Classification error : {0:0.4f}'.format(classification_error))\n",
        "\n",
        "# print precision score\n",
        "\n",
        "precision = TP / float(TP + FP)\n",
        "\n",
        "\n",
        "print('Precision : {0:0.4f}'.format(precision))\n",
        "\n",
        "recall = TP / float(TP + FN)\n",
        "\n",
        "print('Recall or Sensitivity : {0:0.4f}'.format(recall))"
      ],
      "metadata": {
        "id": "DpNh1DCJkS7D",
        "colab": {
          "base_uri": "https://localhost:8080/"
        },
        "outputId": "9de01019-3a57-4ac3-af38-9cf9fcb3a551"
      },
      "execution_count": 28,
      "outputs": [
        {
          "output_type": "stream",
          "name": "stdout",
          "text": [
            "Classification accuracy : 0.5111\n",
            "Classification error : 0.4889\n",
            "Precision : 0.5758\n",
            "Recall or Sensitivity : 0.7037\n"
          ]
        }
      ]
    },
    {
      "cell_type": "code",
      "source": [
        "\n",
        "#plot ROC Curve\n",
        "true_positive_rate = TP / float(TP + FN)\n",
        "\n",
        "\n",
        "print('True Positive Rate : {0:0.4f}'.format(true_positive_rate))\n",
        "\n",
        "false_positive_rate = FP / float(FP + TN)\n",
        "\n",
        "\n",
        "print('False Positive Rate : {0:0.4f}'.format(false_positive_rate))\n",
        "\n",
        "specificity = TN / (TN + FP)\n",
        "\n",
        "print('Specificity : {0:0.4f}'.format(specificity))"
      ],
      "metadata": {
        "id": "_C1OW5QdkTPM",
        "colab": {
          "base_uri": "https://localhost:8080/"
        },
        "outputId": "a73422af-f1fc-40bb-b163-d8ae1f0c8341"
      },
      "execution_count": 29,
      "outputs": [
        {
          "output_type": "stream",
          "name": "stdout",
          "text": [
            "True Positive Rate : 0.7037\n",
            "False Positive Rate : 0.7778\n",
            "Specificity : 0.2222\n"
          ]
        }
      ]
    },
    {
      "cell_type": "code",
      "source": [],
      "metadata": {
        "id": "Mi-MUH2hksqW"
      },
      "execution_count": 29,
      "outputs": []
    },
    {
      "cell_type": "markdown",
      "source": [
        "**KNN**"
      ],
      "metadata": {
        "id": "SIMsR2eNFMdm"
      }
    },
    {
      "cell_type": "code",
      "source": [
        "from sklearn.neighbors import KNeighborsClassifier\n",
        "from sklearn.model_selection import train_test_split\n",
        "from sklearn.metrics import accuracy_score\n",
        "import numpy as np\n",
        "from sklearn.preprocessing import StandardScaler\n",
        "import pandas as pd"
      ],
      "metadata": {
        "id": "elM7QG0QkwQB"
      },
      "execution_count": 30,
      "outputs": []
    },
    {
      "cell_type": "code",
      "source": [
        "# Load your extracted features and labels here\n",
        "# features should be a matrix where each row is a data point and each column is a feature\n",
        "# labels should be a vector with the same number of rows as the features matrix, containing the label of each data point\n",
        "num_rows = data.shape[0]\n",
        "num_cols = data.shape[1]\n",
        "print(num_rows)\n",
        "print(num_cols)\n",
        "\n",
        "features = data.iloc[:, :999]\n",
        "\n",
        "labels = data.iloc[:, 1000]"
      ],
      "metadata": {
        "id": "TKvizLQUlC52",
        "colab": {
          "base_uri": "https://localhost:8080/"
        },
        "outputId": "514d067d-14df-4737-8a96-c9eb7bffd6ff"
      },
      "execution_count": 31,
      "outputs": [
        {
          "output_type": "stream",
          "name": "stdout",
          "text": [
            "4244\n",
            "1001\n"
          ]
        }
      ]
    },
    {
      "cell_type": "code",
      "source": [
        "# Split data into training and testing sets\n",
        "X_train, X_test, y_train, y_test = train_test_split(features, labels, test_size=0.2, random_state=42)"
      ],
      "metadata": {
        "id": "fFlY6f1NlTfJ"
      },
      "execution_count": 32,
      "outputs": []
    },
    {
      "cell_type": "code",
      "source": [
        "# Scale the features to have zero mean and unit variance (this is recommended for KNN)\n",
        "from sklearn.preprocessing import StandardScaler\n",
        "scaler = StandardScaler()\n",
        "X_train = scaler.fit_transform(X_train)\n",
        "X_test = scaler.transform(X_test)"
      ],
      "metadata": {
        "id": "39VyiBTTlTkg"
      },
      "execution_count": 33,
      "outputs": []
    },
    {
      "cell_type": "code",
      "source": [
        "# Train the KNN classifier\n",
        "clf = KNeighborsClassifier(n_neighbors=5)\n",
        "clf.fit(X_train, y_train)"
      ],
      "metadata": {
        "id": "mIoU914WlXvB",
        "colab": {
          "base_uri": "https://localhost:8080/",
          "height": 74
        },
        "outputId": "d2fad279-8722-44b8-82b3-bdbc4ebf23f6"
      },
      "execution_count": 34,
      "outputs": [
        {
          "output_type": "execute_result",
          "data": {
            "text/plain": [
              "KNeighborsClassifier()"
            ],
            "text/html": [
              "<style>#sk-container-id-2 {color: black;background-color: white;}#sk-container-id-2 pre{padding: 0;}#sk-container-id-2 div.sk-toggleable {background-color: white;}#sk-container-id-2 label.sk-toggleable__label {cursor: pointer;display: block;width: 100%;margin-bottom: 0;padding: 0.3em;box-sizing: border-box;text-align: center;}#sk-container-id-2 label.sk-toggleable__label-arrow:before {content: \"▸\";float: left;margin-right: 0.25em;color: #696969;}#sk-container-id-2 label.sk-toggleable__label-arrow:hover:before {color: black;}#sk-container-id-2 div.sk-estimator:hover label.sk-toggleable__label-arrow:before {color: black;}#sk-container-id-2 div.sk-toggleable__content {max-height: 0;max-width: 0;overflow: hidden;text-align: left;background-color: #f0f8ff;}#sk-container-id-2 div.sk-toggleable__content pre {margin: 0.2em;color: black;border-radius: 0.25em;background-color: #f0f8ff;}#sk-container-id-2 input.sk-toggleable__control:checked~div.sk-toggleable__content {max-height: 200px;max-width: 100%;overflow: auto;}#sk-container-id-2 input.sk-toggleable__control:checked~label.sk-toggleable__label-arrow:before {content: \"▾\";}#sk-container-id-2 div.sk-estimator input.sk-toggleable__control:checked~label.sk-toggleable__label {background-color: #d4ebff;}#sk-container-id-2 div.sk-label input.sk-toggleable__control:checked~label.sk-toggleable__label {background-color: #d4ebff;}#sk-container-id-2 input.sk-hidden--visually {border: 0;clip: rect(1px 1px 1px 1px);clip: rect(1px, 1px, 1px, 1px);height: 1px;margin: -1px;overflow: hidden;padding: 0;position: absolute;width: 1px;}#sk-container-id-2 div.sk-estimator {font-family: monospace;background-color: #f0f8ff;border: 1px dotted black;border-radius: 0.25em;box-sizing: border-box;margin-bottom: 0.5em;}#sk-container-id-2 div.sk-estimator:hover {background-color: #d4ebff;}#sk-container-id-2 div.sk-parallel-item::after {content: \"\";width: 100%;border-bottom: 1px solid gray;flex-grow: 1;}#sk-container-id-2 div.sk-label:hover label.sk-toggleable__label {background-color: #d4ebff;}#sk-container-id-2 div.sk-serial::before {content: \"\";position: absolute;border-left: 1px solid gray;box-sizing: border-box;top: 0;bottom: 0;left: 50%;z-index: 0;}#sk-container-id-2 div.sk-serial {display: flex;flex-direction: column;align-items: center;background-color: white;padding-right: 0.2em;padding-left: 0.2em;position: relative;}#sk-container-id-2 div.sk-item {position: relative;z-index: 1;}#sk-container-id-2 div.sk-parallel {display: flex;align-items: stretch;justify-content: center;background-color: white;position: relative;}#sk-container-id-2 div.sk-item::before, #sk-container-id-2 div.sk-parallel-item::before {content: \"\";position: absolute;border-left: 1px solid gray;box-sizing: border-box;top: 0;bottom: 0;left: 50%;z-index: -1;}#sk-container-id-2 div.sk-parallel-item {display: flex;flex-direction: column;z-index: 1;position: relative;background-color: white;}#sk-container-id-2 div.sk-parallel-item:first-child::after {align-self: flex-end;width: 50%;}#sk-container-id-2 div.sk-parallel-item:last-child::after {align-self: flex-start;width: 50%;}#sk-container-id-2 div.sk-parallel-item:only-child::after {width: 0;}#sk-container-id-2 div.sk-dashed-wrapped {border: 1px dashed gray;margin: 0 0.4em 0.5em 0.4em;box-sizing: border-box;padding-bottom: 0.4em;background-color: white;}#sk-container-id-2 div.sk-label label {font-family: monospace;font-weight: bold;display: inline-block;line-height: 1.2em;}#sk-container-id-2 div.sk-label-container {text-align: center;}#sk-container-id-2 div.sk-container {/* jupyter's `normalize.less` sets `[hidden] { display: none; }` but bootstrap.min.css set `[hidden] { display: none !important; }` so we also need the `!important` here to be able to override the default hidden behavior on the sphinx rendered scikit-learn.org. See: https://github.com/scikit-learn/scikit-learn/issues/21755 */display: inline-block !important;position: relative;}#sk-container-id-2 div.sk-text-repr-fallback {display: none;}</style><div id=\"sk-container-id-2\" class=\"sk-top-container\"><div class=\"sk-text-repr-fallback\"><pre>KNeighborsClassifier()</pre><b>In a Jupyter environment, please rerun this cell to show the HTML representation or trust the notebook. <br />On GitHub, the HTML representation is unable to render, please try loading this page with nbviewer.org.</b></div><div class=\"sk-container\" hidden><div class=\"sk-item\"><div class=\"sk-estimator sk-toggleable\"><input class=\"sk-toggleable__control sk-hidden--visually\" id=\"sk-estimator-id-2\" type=\"checkbox\" checked><label for=\"sk-estimator-id-2\" class=\"sk-toggleable__label sk-toggleable__label-arrow\">KNeighborsClassifier</label><div class=\"sk-toggleable__content\"><pre>KNeighborsClassifier()</pre></div></div></div></div></div>"
            ]
          },
          "metadata": {},
          "execution_count": 34
        }
      ]
    },
    {
      "cell_type": "code",
      "source": [
        "# Predict on the test set\n",
        "y_pred = clf.predict(X_test)"
      ],
      "metadata": {
        "id": "MnDyXY95lXx7"
      },
      "execution_count": 35,
      "outputs": []
    },
    {
      "cell_type": "code",
      "source": [
        "# Evaluate the performance of the classifier using accuracy score\n",
        "accuracy = accuracy_score(y_test, y_pred)\n",
        "print(f\"Accuracy score: {accuracy}\")\n"
      ],
      "metadata": {
        "id": "xhC5rLWtlbW0",
        "colab": {
          "base_uri": "https://localhost:8080/"
        },
        "outputId": "26542f19-e3b2-4269-db30-6b3f6a58737b"
      },
      "execution_count": 36,
      "outputs": [
        {
          "output_type": "stream",
          "name": "stdout",
          "text": [
            "Accuracy score: 0.6395759717314488\n"
          ]
        }
      ]
    },
    {
      "cell_type": "code",
      "source": [
        "from sklearn.metrics import confusion_matrix\n",
        "from sklearn.metrics import recall_score\n",
        "# y_true: true labels, y_pred: predicted labels\n",
        "cm = confusion_matrix(y_test,y_pred)"
      ],
      "metadata": {
        "id": "8hE8RbxllbZ0"
      },
      "execution_count": 37,
      "outputs": []
    },
    {
      "cell_type": "code",
      "source": [
        "# Print the confusion matrix\n",
        "print(cm)"
      ],
      "metadata": {
        "id": "xkanhjUZlbc5",
        "colab": {
          "base_uri": "https://localhost:8080/"
        },
        "outputId": "6b031f87-367e-472e-915a-da419efbe114"
      },
      "execution_count": 38,
      "outputs": [
        {
          "output_type": "stream",
          "name": "stdout",
          "text": [
            "[[ 84  17   0   0   4   9]\n",
            " [ 28   7   0   0   0   5]\n",
            " [  0   0 102  91   0   0]\n",
            " [  0   0 100  97   0   0]\n",
            " [ 22   9   0   0   5   4]\n",
            " [ 13   2   0   0   2 248]]\n"
          ]
        }
      ]
    },
    {
      "cell_type": "code",
      "source": [
        "from sklearn.metrics import classification_report\n",
        "\n",
        "print(classification_report(y_test, y_pred))"
      ],
      "metadata": {
        "id": "NrE7jPnWliYT",
        "colab": {
          "base_uri": "https://localhost:8080/"
        },
        "outputId": "d773687f-b78c-443e-8a44-cb25573e9f4d"
      },
      "execution_count": 39,
      "outputs": [
        {
          "output_type": "stream",
          "name": "stdout",
          "text": [
            "              precision    recall  f1-score   support\n",
            "\n",
            "           1       0.57      0.74      0.64       114\n",
            "           2       0.20      0.17      0.19        40\n",
            "           3       0.50      0.53      0.52       193\n",
            "           4       0.52      0.49      0.50       197\n",
            "           5       0.45      0.12      0.20        40\n",
            "           6       0.93      0.94      0.93       265\n",
            "\n",
            "    accuracy                           0.64       849\n",
            "   macro avg       0.53      0.50      0.50       849\n",
            "weighted avg       0.63      0.64      0.63       849\n",
            "\n"
          ]
        }
      ]
    },
    {
      "cell_type": "code",
      "source": [
        "from sklearn.metrics import precision_score, recall_score, f1_score\n",
        "\n",
        "precision = precision_score(y_test, y_pred,average=None)\n",
        "recall = recall_score(y_test, y_pred,average=None)\n",
        "f1 = f1_score(y_test, y_pred,average=None )"
      ],
      "metadata": {
        "id": "YYCspG7rliiZ"
      },
      "execution_count": 40,
      "outputs": []
    },
    {
      "cell_type": "code",
      "source": [
        "# Print the precision, recall, and F1 score\n",
        "print(\"Precision:\", precision)\n",
        "print(\"Recall:\", recall)\n",
        "print(\"F1 Score:\", f1)\n"
      ],
      "metadata": {
        "id": "CCdUzirblye0",
        "colab": {
          "base_uri": "https://localhost:8080/"
        },
        "outputId": "f123008b-00f1-4a8a-a27e-d421970456a4"
      },
      "execution_count": 41,
      "outputs": [
        {
          "output_type": "stream",
          "name": "stdout",
          "text": [
            "Precision: [0.57142857 0.2        0.5049505  0.51595745 0.45454545 0.93233083]\n",
            "Recall: [0.73684211 0.175      0.52849741 0.49238579 0.125      0.93584906]\n",
            "F1 Score: [0.64367816 0.18666667 0.5164557  0.5038961  0.19607843 0.93408663]\n"
          ]
        }
      ]
    },
    {
      "cell_type": "code",
      "source": [
        "from sklearn.metrics import precision_score, recall_score, f1_score\n",
        "\n",
        "precision = precision_score(y_test, y_pred,average='weighted')\n",
        "recall = recall_score(y_test, y_pred,average='weighted')\n",
        "f1 = f1_score(y_test, y_pred ,average='weighted')"
      ],
      "metadata": {
        "id": "yk_soQsjlymO"
      },
      "execution_count": 42,
      "outputs": []
    },
    {
      "cell_type": "code",
      "source": [
        "print(\"Precision:\", precision)\n",
        "print(\"Recall:\", recall)\n",
        "print(\"F1 Score:\", f1)"
      ],
      "metadata": {
        "id": "Nf3OQUyAmHp3",
        "colab": {
          "base_uri": "https://localhost:8080/"
        },
        "outputId": "acdb02f1-47c5-44dc-be1d-612049a6cd70"
      },
      "execution_count": 43,
      "outputs": [
        {
          "output_type": "stream",
          "name": "stdout",
          "text": [
            "Precision: 0.6330876408285497\n",
            "Recall: 0.6395759717314488\n",
            "F1 Score: 0.6303481187120333\n"
          ]
        }
      ]
    },
    {
      "cell_type": "code",
      "source": [
        "precision = precision_score(y_test, y_pred,average='macro')\n",
        "recall = recall_score(y_test, y_pred,average='macro')\n",
        "f1 = f1_score(y_test, y_pred ,average='macro')\n",
        "\n",
        "\n",
        "print(\"Precision:\", precision)\n",
        "print(\"Recall:\", recall)\n",
        "print(\"F1 Score:\", f1)"
      ],
      "metadata": {
        "id": "Q-rgKLEymKHO",
        "colab": {
          "base_uri": "https://localhost:8080/"
        },
        "outputId": "d82376fe-7e81-4c2f-a0f5-f7a320bad7ff"
      },
      "execution_count": 44,
      "outputs": [
        {
          "output_type": "stream",
          "name": "stdout",
          "text": [
            "Precision: 0.5298687991499517\n",
            "Recall: 0.4989290596658978\n",
            "F1 Score: 0.4968102813432124\n"
          ]
        }
      ]
    },
    {
      "cell_type": "code",
      "source": [
        "#to go with the best n_neighbour count\n",
        "\n",
        "from sklearn.model_selection import GridSearchCV\n",
        "# Define the parameter grid to search over\n",
        "param_grid = {'n_neighbors': [1, 3, 5, 7, 9]}"
      ],
      "metadata": {
        "id": "nXkJb-pmmPcF"
      },
      "execution_count": 45,
      "outputs": []
    },
    {
      "cell_type": "code",
      "source": [
        "# Create a KNN classifier\n",
        "clf = KNeighborsClassifier()\n",
        "\n",
        "# Use GridSearchCV to find the best value of n_neighbors\n",
        "grid_search = GridSearchCV(clf, param_grid=param_grid, cv=5)\n",
        "grid_search.fit(X_train, y_train)"
      ],
      "metadata": {
        "id": "vyQtEczymUMI",
        "colab": {
          "base_uri": "https://localhost:8080/",
          "height": 117
        },
        "outputId": "c7dbdc43-5f1d-411f-cc53-ea48d39a1add"
      },
      "execution_count": 46,
      "outputs": [
        {
          "output_type": "execute_result",
          "data": {
            "text/plain": [
              "GridSearchCV(cv=5, estimator=KNeighborsClassifier(),\n",
              "             param_grid={'n_neighbors': [1, 3, 5, 7, 9]})"
            ],
            "text/html": [
              "<style>#sk-container-id-3 {color: black;background-color: white;}#sk-container-id-3 pre{padding: 0;}#sk-container-id-3 div.sk-toggleable {background-color: white;}#sk-container-id-3 label.sk-toggleable__label {cursor: pointer;display: block;width: 100%;margin-bottom: 0;padding: 0.3em;box-sizing: border-box;text-align: center;}#sk-container-id-3 label.sk-toggleable__label-arrow:before {content: \"▸\";float: left;margin-right: 0.25em;color: #696969;}#sk-container-id-3 label.sk-toggleable__label-arrow:hover:before {color: black;}#sk-container-id-3 div.sk-estimator:hover label.sk-toggleable__label-arrow:before {color: black;}#sk-container-id-3 div.sk-toggleable__content {max-height: 0;max-width: 0;overflow: hidden;text-align: left;background-color: #f0f8ff;}#sk-container-id-3 div.sk-toggleable__content pre {margin: 0.2em;color: black;border-radius: 0.25em;background-color: #f0f8ff;}#sk-container-id-3 input.sk-toggleable__control:checked~div.sk-toggleable__content {max-height: 200px;max-width: 100%;overflow: auto;}#sk-container-id-3 input.sk-toggleable__control:checked~label.sk-toggleable__label-arrow:before {content: \"▾\";}#sk-container-id-3 div.sk-estimator input.sk-toggleable__control:checked~label.sk-toggleable__label {background-color: #d4ebff;}#sk-container-id-3 div.sk-label input.sk-toggleable__control:checked~label.sk-toggleable__label {background-color: #d4ebff;}#sk-container-id-3 input.sk-hidden--visually {border: 0;clip: rect(1px 1px 1px 1px);clip: rect(1px, 1px, 1px, 1px);height: 1px;margin: -1px;overflow: hidden;padding: 0;position: absolute;width: 1px;}#sk-container-id-3 div.sk-estimator {font-family: monospace;background-color: #f0f8ff;border: 1px dotted black;border-radius: 0.25em;box-sizing: border-box;margin-bottom: 0.5em;}#sk-container-id-3 div.sk-estimator:hover {background-color: #d4ebff;}#sk-container-id-3 div.sk-parallel-item::after {content: \"\";width: 100%;border-bottom: 1px solid gray;flex-grow: 1;}#sk-container-id-3 div.sk-label:hover label.sk-toggleable__label {background-color: #d4ebff;}#sk-container-id-3 div.sk-serial::before {content: \"\";position: absolute;border-left: 1px solid gray;box-sizing: border-box;top: 0;bottom: 0;left: 50%;z-index: 0;}#sk-container-id-3 div.sk-serial {display: flex;flex-direction: column;align-items: center;background-color: white;padding-right: 0.2em;padding-left: 0.2em;position: relative;}#sk-container-id-3 div.sk-item {position: relative;z-index: 1;}#sk-container-id-3 div.sk-parallel {display: flex;align-items: stretch;justify-content: center;background-color: white;position: relative;}#sk-container-id-3 div.sk-item::before, #sk-container-id-3 div.sk-parallel-item::before {content: \"\";position: absolute;border-left: 1px solid gray;box-sizing: border-box;top: 0;bottom: 0;left: 50%;z-index: -1;}#sk-container-id-3 div.sk-parallel-item {display: flex;flex-direction: column;z-index: 1;position: relative;background-color: white;}#sk-container-id-3 div.sk-parallel-item:first-child::after {align-self: flex-end;width: 50%;}#sk-container-id-3 div.sk-parallel-item:last-child::after {align-self: flex-start;width: 50%;}#sk-container-id-3 div.sk-parallel-item:only-child::after {width: 0;}#sk-container-id-3 div.sk-dashed-wrapped {border: 1px dashed gray;margin: 0 0.4em 0.5em 0.4em;box-sizing: border-box;padding-bottom: 0.4em;background-color: white;}#sk-container-id-3 div.sk-label label {font-family: monospace;font-weight: bold;display: inline-block;line-height: 1.2em;}#sk-container-id-3 div.sk-label-container {text-align: center;}#sk-container-id-3 div.sk-container {/* jupyter's `normalize.less` sets `[hidden] { display: none; }` but bootstrap.min.css set `[hidden] { display: none !important; }` so we also need the `!important` here to be able to override the default hidden behavior on the sphinx rendered scikit-learn.org. See: https://github.com/scikit-learn/scikit-learn/issues/21755 */display: inline-block !important;position: relative;}#sk-container-id-3 div.sk-text-repr-fallback {display: none;}</style><div id=\"sk-container-id-3\" class=\"sk-top-container\"><div class=\"sk-text-repr-fallback\"><pre>GridSearchCV(cv=5, estimator=KNeighborsClassifier(),\n",
              "             param_grid={&#x27;n_neighbors&#x27;: [1, 3, 5, 7, 9]})</pre><b>In a Jupyter environment, please rerun this cell to show the HTML representation or trust the notebook. <br />On GitHub, the HTML representation is unable to render, please try loading this page with nbviewer.org.</b></div><div class=\"sk-container\" hidden><div class=\"sk-item sk-dashed-wrapped\"><div class=\"sk-label-container\"><div class=\"sk-label sk-toggleable\"><input class=\"sk-toggleable__control sk-hidden--visually\" id=\"sk-estimator-id-3\" type=\"checkbox\" ><label for=\"sk-estimator-id-3\" class=\"sk-toggleable__label sk-toggleable__label-arrow\">GridSearchCV</label><div class=\"sk-toggleable__content\"><pre>GridSearchCV(cv=5, estimator=KNeighborsClassifier(),\n",
              "             param_grid={&#x27;n_neighbors&#x27;: [1, 3, 5, 7, 9]})</pre></div></div></div><div class=\"sk-parallel\"><div class=\"sk-parallel-item\"><div class=\"sk-item\"><div class=\"sk-label-container\"><div class=\"sk-label sk-toggleable\"><input class=\"sk-toggleable__control sk-hidden--visually\" id=\"sk-estimator-id-4\" type=\"checkbox\" ><label for=\"sk-estimator-id-4\" class=\"sk-toggleable__label sk-toggleable__label-arrow\">estimator: KNeighborsClassifier</label><div class=\"sk-toggleable__content\"><pre>KNeighborsClassifier()</pre></div></div></div><div class=\"sk-serial\"><div class=\"sk-item\"><div class=\"sk-estimator sk-toggleable\"><input class=\"sk-toggleable__control sk-hidden--visually\" id=\"sk-estimator-id-5\" type=\"checkbox\" ><label for=\"sk-estimator-id-5\" class=\"sk-toggleable__label sk-toggleable__label-arrow\">KNeighborsClassifier</label><div class=\"sk-toggleable__content\"><pre>KNeighborsClassifier()</pre></div></div></div></div></div></div></div></div></div></div>"
            ]
          },
          "metadata": {},
          "execution_count": 46
        }
      ]
    },
    {
      "cell_type": "code",
      "source": [
        "# Predict on the test set using the best estimator\n",
        "y_pred = grid_search.best_estimator_.predict(X_test)"
      ],
      "metadata": {
        "id": "VttAuPV6mWyq"
      },
      "execution_count": 47,
      "outputs": []
    },
    {
      "cell_type": "code",
      "source": [
        "# Evaluate the performance of the classifier using accuracy score\n",
        "accuracy = accuracy_score(y_test, y_pred)\n",
        "print(f\"Accuracy score: {accuracy}\")"
      ],
      "metadata": {
        "id": "guKf_M2fmZGJ",
        "colab": {
          "base_uri": "https://localhost:8080/"
        },
        "outputId": "2ce7c352-e8c6-4879-b418-59e8f43dbacb"
      },
      "execution_count": 48,
      "outputs": [
        {
          "output_type": "stream",
          "name": "stdout",
          "text": [
            "Accuracy score: 0.6619552414605419\n"
          ]
        }
      ]
    },
    {
      "cell_type": "code",
      "source": [
        "precision = precision_score(y_test, y_pred,average='micro')\n",
        "recall = recall_score(y_test, y_pred,average='micro')\n",
        "f1 = f1_score(y_test, y_pred ,average='micro')"
      ],
      "metadata": {
        "id": "NrJBF6TwmbC0"
      },
      "execution_count": 49,
      "outputs": []
    },
    {
      "cell_type": "code",
      "source": [
        "print(\"Precision:\", precision)\n",
        "print(\"Recall:\", recall)\n",
        "print(\"F1 Score:\", f1)"
      ],
      "metadata": {
        "id": "UsF0YBDGmhGy",
        "colab": {
          "base_uri": "https://localhost:8080/"
        },
        "outputId": "14d4e1c6-0bb0-43d4-ed26-69eac8b0635e"
      },
      "execution_count": 50,
      "outputs": [
        {
          "output_type": "stream",
          "name": "stdout",
          "text": [
            "Precision: 0.6619552414605419\n",
            "Recall: 0.6619552414605419\n",
            "F1 Score: 0.6619552414605419\n"
          ]
        }
      ]
    },
    {
      "cell_type": "code",
      "source": [
        "from sklearn.metrics import confusion_matrix\n",
        "from sklearn.metrics import recall_score\n",
        "# y_true: true labels, y_pred: predicted labels\n",
        "cm = confusion_matrix(y_test,y_pred)"
      ],
      "metadata": {
        "id": "U33o3aRfmjUh"
      },
      "execution_count": 51,
      "outputs": []
    },
    {
      "cell_type": "code",
      "source": [
        "\n",
        "# Print the confusion matrix\n",
        "print(cm)"
      ],
      "metadata": {
        "id": "MXYIyK2xmlfn",
        "colab": {
          "base_uri": "https://localhost:8080/"
        },
        "outputId": "929180c9-92d2-40e8-8177-d9bca91c7743"
      },
      "execution_count": 52,
      "outputs": [
        {
          "output_type": "stream",
          "name": "stdout",
          "text": [
            "[[ 90  10   0   0   2  12]\n",
            " [ 33   4   0   0   0   3]\n",
            " [  0   0 108  85   0   0]\n",
            " [  0   0  95 102   0   0]\n",
            " [ 30   1   0   0   2   7]\n",
            " [  8   0   0   0   1 256]]\n"
          ]
        }
      ]
    },
    {
      "cell_type": "code",
      "source": [
        "from sklearn.metrics import classification_report\n",
        "\n",
        "print(classification_report(y_test, y_pred))"
      ],
      "metadata": {
        "id": "14yC-IJomopI",
        "colab": {
          "base_uri": "https://localhost:8080/"
        },
        "outputId": "0414faef-443f-4e08-9642-42220dfdc945"
      },
      "execution_count": 53,
      "outputs": [
        {
          "output_type": "stream",
          "name": "stdout",
          "text": [
            "              precision    recall  f1-score   support\n",
            "\n",
            "           1       0.56      0.79      0.65       114\n",
            "           2       0.27      0.10      0.15        40\n",
            "           3       0.53      0.56      0.55       193\n",
            "           4       0.55      0.52      0.53       197\n",
            "           5       0.40      0.05      0.09        40\n",
            "           6       0.92      0.97      0.94       265\n",
            "\n",
            "    accuracy                           0.66       849\n",
            "   macro avg       0.54      0.50      0.48       849\n",
            "weighted avg       0.64      0.66      0.64       849\n",
            "\n"
          ]
        }
      ]
    },
    {
      "cell_type": "code",
      "source": [],
      "metadata": {
        "id": "hcTngaN6mqoA"
      },
      "execution_count": null,
      "outputs": []
    },
    {
      "cell_type": "markdown",
      "source": [
        "**SVM**"
      ],
      "metadata": {
        "id": "AjITGfwWFZcd"
      }
    },
    {
      "cell_type": "code",
      "source": [
        "from sklearn import svm\n",
        "from sklearn.model_selection import train_test_split\n",
        "from sklearn.metrics import accuracy_score\n",
        "from sklearn.feature_extraction.text import TfidfVectorizer\n",
        "import numpy as np\n",
        "import pandas as pd"
      ],
      "metadata": {
        "id": "v5Ut-8dLm1Pw"
      },
      "execution_count": 54,
      "outputs": []
    },
    {
      "cell_type": "code",
      "source": [
        "num_rows = data.shape[0]\n",
        "num_cols = data.shape[1]\n",
        "print(num_rows)\n",
        "print(num_cols)\n",
        "\n",
        "features = data.iloc[:, :999]\n",
        "\n",
        "labels = data.iloc[:, 1000]"
      ],
      "metadata": {
        "id": "vnQREIy3m98I",
        "colab": {
          "base_uri": "https://localhost:8080/"
        },
        "outputId": "1cab60ac-0041-4cfb-8a10-137033aee62a"
      },
      "execution_count": 55,
      "outputs": [
        {
          "output_type": "stream",
          "name": "stdout",
          "text": [
            "4244\n",
            "1001\n"
          ]
        }
      ]
    },
    {
      "cell_type": "code",
      "source": [
        "from sklearn.neighbors import KNeighborsClassifier\n",
        "from sklearn.model_selection import train_test_split\n",
        "from sklearn.metrics import accuracy_score\n",
        "\n",
        "X_train, X_test, y_train, y_test = train_test_split(features, labels, test_size=0.25, random_state=42)"
      ],
      "metadata": {
        "id": "0vB4bn2vnEhK"
      },
      "execution_count": 56,
      "outputs": []
    },
    {
      "cell_type": "code",
      "source": [
        "from sklearn.preprocessing import StandardScaler\n",
        "\n",
        "scaler = StandardScaler()\n",
        "X_train = scaler.fit_transform(X_train)\n",
        "X_test = scaler.transform(X_test)"
      ],
      "metadata": {
        "id": "dW4nPfrznF2b"
      },
      "execution_count": 57,
      "outputs": []
    },
    {
      "cell_type": "code",
      "source": [
        "clf = svm.SVC(kernel='linear',probability=True)\n",
        "clf.fit(X_train, y_train)"
      ],
      "metadata": {
        "id": "1OaYpVDTnKF8",
        "colab": {
          "base_uri": "https://localhost:8080/",
          "height": 74
        },
        "outputId": "82765ed9-bd79-4dbf-aa7e-35f58a0d237b"
      },
      "execution_count": 58,
      "outputs": [
        {
          "output_type": "execute_result",
          "data": {
            "text/plain": [
              "SVC(kernel='linear', probability=True)"
            ],
            "text/html": [
              "<style>#sk-container-id-4 {color: black;background-color: white;}#sk-container-id-4 pre{padding: 0;}#sk-container-id-4 div.sk-toggleable {background-color: white;}#sk-container-id-4 label.sk-toggleable__label {cursor: pointer;display: block;width: 100%;margin-bottom: 0;padding: 0.3em;box-sizing: border-box;text-align: center;}#sk-container-id-4 label.sk-toggleable__label-arrow:before {content: \"▸\";float: left;margin-right: 0.25em;color: #696969;}#sk-container-id-4 label.sk-toggleable__label-arrow:hover:before {color: black;}#sk-container-id-4 div.sk-estimator:hover label.sk-toggleable__label-arrow:before {color: black;}#sk-container-id-4 div.sk-toggleable__content {max-height: 0;max-width: 0;overflow: hidden;text-align: left;background-color: #f0f8ff;}#sk-container-id-4 div.sk-toggleable__content pre {margin: 0.2em;color: black;border-radius: 0.25em;background-color: #f0f8ff;}#sk-container-id-4 input.sk-toggleable__control:checked~div.sk-toggleable__content {max-height: 200px;max-width: 100%;overflow: auto;}#sk-container-id-4 input.sk-toggleable__control:checked~label.sk-toggleable__label-arrow:before {content: \"▾\";}#sk-container-id-4 div.sk-estimator input.sk-toggleable__control:checked~label.sk-toggleable__label {background-color: #d4ebff;}#sk-container-id-4 div.sk-label input.sk-toggleable__control:checked~label.sk-toggleable__label {background-color: #d4ebff;}#sk-container-id-4 input.sk-hidden--visually {border: 0;clip: rect(1px 1px 1px 1px);clip: rect(1px, 1px, 1px, 1px);height: 1px;margin: -1px;overflow: hidden;padding: 0;position: absolute;width: 1px;}#sk-container-id-4 div.sk-estimator {font-family: monospace;background-color: #f0f8ff;border: 1px dotted black;border-radius: 0.25em;box-sizing: border-box;margin-bottom: 0.5em;}#sk-container-id-4 div.sk-estimator:hover {background-color: #d4ebff;}#sk-container-id-4 div.sk-parallel-item::after {content: \"\";width: 100%;border-bottom: 1px solid gray;flex-grow: 1;}#sk-container-id-4 div.sk-label:hover label.sk-toggleable__label {background-color: #d4ebff;}#sk-container-id-4 div.sk-serial::before {content: \"\";position: absolute;border-left: 1px solid gray;box-sizing: border-box;top: 0;bottom: 0;left: 50%;z-index: 0;}#sk-container-id-4 div.sk-serial {display: flex;flex-direction: column;align-items: center;background-color: white;padding-right: 0.2em;padding-left: 0.2em;position: relative;}#sk-container-id-4 div.sk-item {position: relative;z-index: 1;}#sk-container-id-4 div.sk-parallel {display: flex;align-items: stretch;justify-content: center;background-color: white;position: relative;}#sk-container-id-4 div.sk-item::before, #sk-container-id-4 div.sk-parallel-item::before {content: \"\";position: absolute;border-left: 1px solid gray;box-sizing: border-box;top: 0;bottom: 0;left: 50%;z-index: -1;}#sk-container-id-4 div.sk-parallel-item {display: flex;flex-direction: column;z-index: 1;position: relative;background-color: white;}#sk-container-id-4 div.sk-parallel-item:first-child::after {align-self: flex-end;width: 50%;}#sk-container-id-4 div.sk-parallel-item:last-child::after {align-self: flex-start;width: 50%;}#sk-container-id-4 div.sk-parallel-item:only-child::after {width: 0;}#sk-container-id-4 div.sk-dashed-wrapped {border: 1px dashed gray;margin: 0 0.4em 0.5em 0.4em;box-sizing: border-box;padding-bottom: 0.4em;background-color: white;}#sk-container-id-4 div.sk-label label {font-family: monospace;font-weight: bold;display: inline-block;line-height: 1.2em;}#sk-container-id-4 div.sk-label-container {text-align: center;}#sk-container-id-4 div.sk-container {/* jupyter's `normalize.less` sets `[hidden] { display: none; }` but bootstrap.min.css set `[hidden] { display: none !important; }` so we also need the `!important` here to be able to override the default hidden behavior on the sphinx rendered scikit-learn.org. See: https://github.com/scikit-learn/scikit-learn/issues/21755 */display: inline-block !important;position: relative;}#sk-container-id-4 div.sk-text-repr-fallback {display: none;}</style><div id=\"sk-container-id-4\" class=\"sk-top-container\"><div class=\"sk-text-repr-fallback\"><pre>SVC(kernel=&#x27;linear&#x27;, probability=True)</pre><b>In a Jupyter environment, please rerun this cell to show the HTML representation or trust the notebook. <br />On GitHub, the HTML representation is unable to render, please try loading this page with nbviewer.org.</b></div><div class=\"sk-container\" hidden><div class=\"sk-item\"><div class=\"sk-estimator sk-toggleable\"><input class=\"sk-toggleable__control sk-hidden--visually\" id=\"sk-estimator-id-6\" type=\"checkbox\" checked><label for=\"sk-estimator-id-6\" class=\"sk-toggleable__label sk-toggleable__label-arrow\">SVC</label><div class=\"sk-toggleable__content\"><pre>SVC(kernel=&#x27;linear&#x27;, probability=True)</pre></div></div></div></div></div>"
            ]
          },
          "metadata": {},
          "execution_count": 58
        }
      ]
    },
    {
      "cell_type": "code",
      "source": [
        "y_pred = clf.predict(X_test)\n",
        "accuracy = accuracy_score(y_test, y_pred)\n",
        "print(f\"Accuracy score: {accuracy}\")"
      ],
      "metadata": {
        "id": "Oqkv91qenKOe",
        "colab": {
          "base_uri": "https://localhost:8080/"
        },
        "outputId": "8f42cc50-8f55-494e-f949-3c722e82fa6b"
      },
      "execution_count": 59,
      "outputs": [
        {
          "output_type": "stream",
          "name": "stdout",
          "text": [
            "Accuracy score: 0.6654099905749293\n"
          ]
        }
      ]
    },
    {
      "cell_type": "code",
      "source": [
        "from sklearn.metrics import confusion_matrix\n",
        "from sklearn.metrics import recall_score\n",
        "# y_true: true labels, y_pred: predicted labels\n",
        "cm = confusion_matrix(y_test,y_pred)\n"
      ],
      "metadata": {
        "id": "EtKYEWQ1njCf"
      },
      "execution_count": 60,
      "outputs": []
    },
    {
      "cell_type": "code",
      "source": [
        "# Print the confusion matrix\n",
        "print(cm)"
      ],
      "metadata": {
        "id": "cOZAcLlxnjLc",
        "colab": {
          "base_uri": "https://localhost:8080/"
        },
        "outputId": "c22f9c66-44c2-4a90-efb1-ea3355e0bea6"
      },
      "execution_count": 61,
      "outputs": [
        {
          "output_type": "stream",
          "name": "stdout",
          "text": [
            "[[ 82  44   0   0  16   1]\n",
            " [ 36  14   0   0   2   0]\n",
            " [  0   0 132 103   0   0]\n",
            " [  0   0 118 125   0   0]\n",
            " [ 25   9   0   0  11   1]\n",
            " [  0   0   0   0   0 342]]\n"
          ]
        }
      ]
    },
    {
      "cell_type": "code",
      "source": [
        "from sklearn.metrics import classification_report\n",
        "\n",
        "print(classification_report(y_test, y_pred))"
      ],
      "metadata": {
        "id": "hunPTbH-noMt",
        "colab": {
          "base_uri": "https://localhost:8080/"
        },
        "outputId": "7d258418-36db-407d-aa7c-f797bc38b80f"
      },
      "execution_count": 62,
      "outputs": [
        {
          "output_type": "stream",
          "name": "stdout",
          "text": [
            "              precision    recall  f1-score   support\n",
            "\n",
            "           1       0.57      0.57      0.57       143\n",
            "           2       0.21      0.27      0.24        52\n",
            "           3       0.53      0.56      0.54       235\n",
            "           4       0.55      0.51      0.53       243\n",
            "           5       0.38      0.24      0.29        46\n",
            "           6       0.99      1.00      1.00       342\n",
            "\n",
            "    accuracy                           0.67      1061\n",
            "   macro avg       0.54      0.53      0.53      1061\n",
            "weighted avg       0.67      0.67      0.67      1061\n",
            "\n"
          ]
        }
      ]
    },
    {
      "cell_type": "code",
      "source": [
        "from sklearn.metrics import precision_score, recall_score, f1_score\n",
        "\n",
        "precision = precision_score(y_test, y_pred,average='weighted')\n",
        "recall = recall_score(y_test, y_pred,average='weighted')\n",
        "f1 = f1_score(y_test, y_pred ,average='weighted')\n"
      ],
      "metadata": {
        "id": "-8pbilAHnrCM"
      },
      "execution_count": 63,
      "outputs": []
    },
    {
      "cell_type": "code",
      "source": [
        "from sklearn.metrics import precision_score, recall_score, f1_score\n",
        "\n",
        "precision = precision_score(y_test, y_pred,average=None)\n",
        "recall = recall_score(y_test, y_pred,average=None)\n",
        "f1 = f1_score(y_test, y_pred,average=None )"
      ],
      "metadata": {
        "id": "YglR0r9NnrKJ"
      },
      "execution_count": 64,
      "outputs": []
    },
    {
      "cell_type": "code",
      "source": [
        "# Print the precision, recall, and F1 score\n",
        "print(\"Precision:\", precision)\n",
        "print(\"Recall:\", recall)\n",
        "print(\"F1 Score:\", f1)"
      ],
      "metadata": {
        "id": "7h_us1hbnxHi",
        "colab": {
          "base_uri": "https://localhost:8080/"
        },
        "outputId": "e43abbd9-cfd5-44e1-e510-1693c2b93efb"
      },
      "execution_count": 65,
      "outputs": [
        {
          "output_type": "stream",
          "name": "stdout",
          "text": [
            "Precision: [0.57342657 0.20895522 0.528      0.54824561 0.37931034 0.99418605]\n",
            "Recall: [0.57342657 0.26923077 0.56170213 0.51440329 0.23913043 1.        ]\n",
            "F1 Score: [0.57342657 0.23529412 0.5443299  0.53078556 0.29333333 0.99708455]\n"
          ]
        }
      ]
    },
    {
      "cell_type": "code",
      "source": [
        "precision = precision_score(y_test, y_pred,average='micro')\n",
        "recall = recall_score(y_test, y_pred,average='micro')\n",
        "f1 = f1_score(y_test, y_pred ,average='micro')\n"
      ],
      "metadata": {
        "id": "aOkCWXvNnxMr"
      },
      "execution_count": 66,
      "outputs": []
    },
    {
      "cell_type": "code",
      "source": [
        "print(\"Precision:\", precision)\n",
        "print(\"Recall:\", recall)\n",
        "print(\"F1 Score:\", f1)"
      ],
      "metadata": {
        "id": "6vzCoW9rn7VS",
        "colab": {
          "base_uri": "https://localhost:8080/"
        },
        "outputId": "71485656-969f-4897-b87d-67d3000c95dd"
      },
      "execution_count": 67,
      "outputs": [
        {
          "output_type": "stream",
          "name": "stdout",
          "text": [
            "Precision: 0.6654099905749293\n",
            "Recall: 0.6654099905749293\n",
            "F1 Score: 0.6654099905749293\n"
          ]
        }
      ]
    },
    {
      "cell_type": "code",
      "source": [
        "precision = precision_score(y_test, y_pred,average='macro')\n",
        "recall = recall_score(y_test, y_pred,average='macro')\n",
        "f1 = f1_score(y_test, y_pred ,average='macro')"
      ],
      "metadata": {
        "id": "eGVxmCXcn8qE"
      },
      "execution_count": 68,
      "outputs": []
    },
    {
      "cell_type": "code",
      "source": [
        "print(\"Precision:\", precision)\n",
        "print(\"Recall:\", recall)\n",
        "print(\"F1 Score:\", f1)"
      ],
      "metadata": {
        "id": "DEXTqA1An8um",
        "colab": {
          "base_uri": "https://localhost:8080/"
        },
        "outputId": "567eb072-9a3e-4603-a193-5f3860c70b0b"
      },
      "execution_count": 69,
      "outputs": [
        {
          "output_type": "stream",
          "name": "stdout",
          "text": [
            "Precision: 0.538687300446912\n",
            "Recall: 0.5263155328800994\n",
            "F1 Score: 0.5290423386753058\n"
          ]
        }
      ]
    },
    {
      "cell_type": "code",
      "source": [
        "from sklearn.model_selection import KFold # import KFold\n",
        "X = y_test\n",
        "y =  y_pred\n",
        "kf = KFold(n_splits=2) # Define the split - into 2 folds\n",
        "kf.get_n_splits(X) # returns the number of splitting iterations in the cross-validator\n",
        "print(kf)\n",
        "KFold(n_splits=2, random_state=None, shuffle=False)"
      ],
      "metadata": {
        "id": "rti0Y4kRGOV0",
        "colab": {
          "base_uri": "https://localhost:8080/"
        },
        "outputId": "299717d5-77b2-47c5-8bdb-951433fe7f24"
      },
      "execution_count": 70,
      "outputs": [
        {
          "output_type": "stream",
          "name": "stdout",
          "text": [
            "KFold(n_splits=2, random_state=None, shuffle=False)\n"
          ]
        },
        {
          "output_type": "execute_result",
          "data": {
            "text/plain": [
              "KFold(n_splits=2, random_state=None, shuffle=False)"
            ]
          },
          "metadata": {},
          "execution_count": 70
        }
      ]
    },
    {
      "cell_type": "code",
      "source": [],
      "metadata": {
        "id": "nLI2yVhtywar"
      },
      "execution_count": null,
      "outputs": []
    },
    {
      "cell_type": "markdown",
      "source": [
        "**RANDOM FOREST**"
      ],
      "metadata": {
        "id": "xtdh73pYFlxg"
      }
    },
    {
      "cell_type": "code",
      "source": [
        "import numpy as np\n",
        "import pandas as pd\n",
        "\n",
        "from sklearn.model_selection import train_test_split\n",
        "from sklearn.ensemble import RandomForestClassifier\n",
        "\n",
        "from sklearn.metrics import accuracy_score"
      ],
      "metadata": {
        "id": "JnPNVRNeL2yK"
      },
      "execution_count": 71,
      "outputs": []
    },
    {
      "cell_type": "code",
      "source": [
        "x=data.iloc[:,0:1000].values\n",
        "y=data.iloc[:, 1000].values"
      ],
      "metadata": {
        "id": "pFstFKYEJpxQ"
      },
      "execution_count": 72,
      "outputs": []
    },
    {
      "cell_type": "code",
      "source": [
        "X_train, X_test,y_train,y_test = train_test_split(x,y,test_size=0.2,random_state=42)"
      ],
      "metadata": {
        "id": "LruE5rz1KbpE"
      },
      "execution_count": 73,
      "outputs": []
    },
    {
      "cell_type": "code",
      "source": [
        "rf = RandomForestClassifier(oob_score=True)"
      ],
      "metadata": {
        "id": "zu6pimYKKbsB"
      },
      "execution_count": 74,
      "outputs": []
    },
    {
      "cell_type": "code",
      "source": [
        "rf.fit(X_train,y_train)"
      ],
      "metadata": {
        "id": "coua60dRKbvl",
        "colab": {
          "base_uri": "https://localhost:8080/",
          "height": 74
        },
        "outputId": "63769232-6ba0-48c3-eb15-32ab06dcd94e"
      },
      "execution_count": 75,
      "outputs": [
        {
          "output_type": "execute_result",
          "data": {
            "text/plain": [
              "RandomForestClassifier(oob_score=True)"
            ],
            "text/html": [
              "<style>#sk-container-id-5 {color: black;background-color: white;}#sk-container-id-5 pre{padding: 0;}#sk-container-id-5 div.sk-toggleable {background-color: white;}#sk-container-id-5 label.sk-toggleable__label {cursor: pointer;display: block;width: 100%;margin-bottom: 0;padding: 0.3em;box-sizing: border-box;text-align: center;}#sk-container-id-5 label.sk-toggleable__label-arrow:before {content: \"▸\";float: left;margin-right: 0.25em;color: #696969;}#sk-container-id-5 label.sk-toggleable__label-arrow:hover:before {color: black;}#sk-container-id-5 div.sk-estimator:hover label.sk-toggleable__label-arrow:before {color: black;}#sk-container-id-5 div.sk-toggleable__content {max-height: 0;max-width: 0;overflow: hidden;text-align: left;background-color: #f0f8ff;}#sk-container-id-5 div.sk-toggleable__content pre {margin: 0.2em;color: black;border-radius: 0.25em;background-color: #f0f8ff;}#sk-container-id-5 input.sk-toggleable__control:checked~div.sk-toggleable__content {max-height: 200px;max-width: 100%;overflow: auto;}#sk-container-id-5 input.sk-toggleable__control:checked~label.sk-toggleable__label-arrow:before {content: \"▾\";}#sk-container-id-5 div.sk-estimator input.sk-toggleable__control:checked~label.sk-toggleable__label {background-color: #d4ebff;}#sk-container-id-5 div.sk-label input.sk-toggleable__control:checked~label.sk-toggleable__label {background-color: #d4ebff;}#sk-container-id-5 input.sk-hidden--visually {border: 0;clip: rect(1px 1px 1px 1px);clip: rect(1px, 1px, 1px, 1px);height: 1px;margin: -1px;overflow: hidden;padding: 0;position: absolute;width: 1px;}#sk-container-id-5 div.sk-estimator {font-family: monospace;background-color: #f0f8ff;border: 1px dotted black;border-radius: 0.25em;box-sizing: border-box;margin-bottom: 0.5em;}#sk-container-id-5 div.sk-estimator:hover {background-color: #d4ebff;}#sk-container-id-5 div.sk-parallel-item::after {content: \"\";width: 100%;border-bottom: 1px solid gray;flex-grow: 1;}#sk-container-id-5 div.sk-label:hover label.sk-toggleable__label {background-color: #d4ebff;}#sk-container-id-5 div.sk-serial::before {content: \"\";position: absolute;border-left: 1px solid gray;box-sizing: border-box;top: 0;bottom: 0;left: 50%;z-index: 0;}#sk-container-id-5 div.sk-serial {display: flex;flex-direction: column;align-items: center;background-color: white;padding-right: 0.2em;padding-left: 0.2em;position: relative;}#sk-container-id-5 div.sk-item {position: relative;z-index: 1;}#sk-container-id-5 div.sk-parallel {display: flex;align-items: stretch;justify-content: center;background-color: white;position: relative;}#sk-container-id-5 div.sk-item::before, #sk-container-id-5 div.sk-parallel-item::before {content: \"\";position: absolute;border-left: 1px solid gray;box-sizing: border-box;top: 0;bottom: 0;left: 50%;z-index: -1;}#sk-container-id-5 div.sk-parallel-item {display: flex;flex-direction: column;z-index: 1;position: relative;background-color: white;}#sk-container-id-5 div.sk-parallel-item:first-child::after {align-self: flex-end;width: 50%;}#sk-container-id-5 div.sk-parallel-item:last-child::after {align-self: flex-start;width: 50%;}#sk-container-id-5 div.sk-parallel-item:only-child::after {width: 0;}#sk-container-id-5 div.sk-dashed-wrapped {border: 1px dashed gray;margin: 0 0.4em 0.5em 0.4em;box-sizing: border-box;padding-bottom: 0.4em;background-color: white;}#sk-container-id-5 div.sk-label label {font-family: monospace;font-weight: bold;display: inline-block;line-height: 1.2em;}#sk-container-id-5 div.sk-label-container {text-align: center;}#sk-container-id-5 div.sk-container {/* jupyter's `normalize.less` sets `[hidden] { display: none; }` but bootstrap.min.css set `[hidden] { display: none !important; }` so we also need the `!important` here to be able to override the default hidden behavior on the sphinx rendered scikit-learn.org. See: https://github.com/scikit-learn/scikit-learn/issues/21755 */display: inline-block !important;position: relative;}#sk-container-id-5 div.sk-text-repr-fallback {display: none;}</style><div id=\"sk-container-id-5\" class=\"sk-top-container\"><div class=\"sk-text-repr-fallback\"><pre>RandomForestClassifier(oob_score=True)</pre><b>In a Jupyter environment, please rerun this cell to show the HTML representation or trust the notebook. <br />On GitHub, the HTML representation is unable to render, please try loading this page with nbviewer.org.</b></div><div class=\"sk-container\" hidden><div class=\"sk-item\"><div class=\"sk-estimator sk-toggleable\"><input class=\"sk-toggleable__control sk-hidden--visually\" id=\"sk-estimator-id-7\" type=\"checkbox\" checked><label for=\"sk-estimator-id-7\" class=\"sk-toggleable__label sk-toggleable__label-arrow\">RandomForestClassifier</label><div class=\"sk-toggleable__content\"><pre>RandomForestClassifier(oob_score=True)</pre></div></div></div></div></div>"
            ]
          },
          "metadata": {},
          "execution_count": 75
        }
      ]
    },
    {
      "cell_type": "code",
      "source": [
        "rf.oob_score_"
      ],
      "metadata": {
        "id": "6tQTWVx-Kby0",
        "colab": {
          "base_uri": "https://localhost:8080/"
        },
        "outputId": "8fe7168f-3fee-4a92-9179-9658cc53e2be"
      },
      "execution_count": 76,
      "outputs": [
        {
          "output_type": "execute_result",
          "data": {
            "text/plain": [
              "0.6456553755522828"
            ]
          },
          "metadata": {},
          "execution_count": 76
        }
      ]
    },
    {
      "cell_type": "code",
      "source": [
        "y_pred = rf.predict(X_test)\n",
        "accuracy_score(y_test,y_pred)"
      ],
      "metadata": {
        "id": "iwvr2kV2MjSJ",
        "colab": {
          "base_uri": "https://localhost:8080/"
        },
        "outputId": "e951962c-131e-45bd-c687-fd9ffd62713f"
      },
      "execution_count": 77,
      "outputs": [
        {
          "output_type": "execute_result",
          "data": {
            "text/plain": [
              "0.6183745583038869"
            ]
          },
          "metadata": {},
          "execution_count": 77
        }
      ]
    },
    {
      "cell_type": "code",
      "source": [
        "from sklearn.metrics import classification_report\n",
        "print(classification_report(y_test,y_pred))\n",
        "\n",
        "TP = cm[0,0]\n",
        "TN = cm[1,1]\n",
        "FP = cm[0,1]\n",
        "FN = cm[1,0]"
      ],
      "metadata": {
        "id": "Jg8ctRpkQhAX",
        "colab": {
          "base_uri": "https://localhost:8080/"
        },
        "outputId": "5870ad76-ab0c-454b-a216-8611a35b9b3c"
      },
      "execution_count": 78,
      "outputs": [
        {
          "output_type": "stream",
          "name": "stdout",
          "text": [
            "              precision    recall  f1-score   support\n",
            "\n",
            "           1       0.60      0.67      0.63       114\n",
            "           2       0.00      0.00      0.00        40\n",
            "           3       0.47      0.61      0.53       193\n",
            "           4       0.47      0.34      0.39       197\n",
            "           5       0.00      0.00      0.00        40\n",
            "           6       0.80      1.00      0.89       265\n",
            "\n",
            "    accuracy                           0.62       849\n",
            "   macro avg       0.39      0.44      0.41       849\n",
            "weighted avg       0.55      0.62      0.57       849\n",
            "\n"
          ]
        },
        {
          "output_type": "stream",
          "name": "stderr",
          "text": [
            "/usr/local/lib/python3.10/dist-packages/sklearn/metrics/_classification.py:1344: UndefinedMetricWarning: Precision and F-score are ill-defined and being set to 0.0 in labels with no predicted samples. Use `zero_division` parameter to control this behavior.\n",
            "  _warn_prf(average, modifier, msg_start, len(result))\n",
            "/usr/local/lib/python3.10/dist-packages/sklearn/metrics/_classification.py:1344: UndefinedMetricWarning: Precision and F-score are ill-defined and being set to 0.0 in labels with no predicted samples. Use `zero_division` parameter to control this behavior.\n",
            "  _warn_prf(average, modifier, msg_start, len(result))\n",
            "/usr/local/lib/python3.10/dist-packages/sklearn/metrics/_classification.py:1344: UndefinedMetricWarning: Precision and F-score are ill-defined and being set to 0.0 in labels with no predicted samples. Use `zero_division` parameter to control this behavior.\n",
            "  _warn_prf(average, modifier, msg_start, len(result))\n"
          ]
        }
      ]
    },
    {
      "cell_type": "code",
      "source": [],
      "metadata": {
        "id": "SGSvsg9hRpCa"
      },
      "execution_count": null,
      "outputs": []
    },
    {
      "cell_type": "markdown",
      "source": [
        "**DECISION TREE**"
      ],
      "metadata": {
        "id": "CqHTiGHFFzzG"
      }
    },
    {
      "cell_type": "code",
      "source": [
        "from sklearn import svm\n",
        "from sklearn.model_selection import train_test_split\n",
        "from sklearn.metrics import accuracy_score\n",
        "from sklearn.feature_extraction.text import TfidfVectorizer\n",
        "import numpy as np"
      ],
      "metadata": {
        "id": "W4Ms2Qs8R31C"
      },
      "execution_count": 79,
      "outputs": []
    },
    {
      "cell_type": "code",
      "source": [
        "# Load libraries\n",
        "import pandas as pd\n",
        "from sklearn.tree import DecisionTreeClassifier # Import Decision Tree Classifier\n",
        "from sklearn.model_selection import train_test_split # Import train_test_split function\n",
        "from sklearn import metrics #Import scikit-learn metrics module for accuracy calculation"
      ],
      "metadata": {
        "id": "QbwGNzChTMCH"
      },
      "execution_count": 80,
      "outputs": []
    },
    {
      "cell_type": "code",
      "source": [
        "features = data.iloc[:, :999]\n",
        "\n",
        "labels = data.iloc[:, 1000]\n"
      ],
      "metadata": {
        "id": "ohDpWdqtTMFB"
      },
      "execution_count": 81,
      "outputs": []
    },
    {
      "cell_type": "code",
      "source": [
        "# Split dataset into training set and test set\n",
        "X_train, X_test, y_train, y_test = train_test_split\n",
        "(features, labels, test_size=0.3, random_state=1) # 70% training and 30% test"
      ],
      "metadata": {
        "id": "YEF5RcxfGWQ8"
      },
      "execution_count": null,
      "outputs": []
    },
    {
      "cell_type": "code",
      "source": [
        "# Create Decision Tree classifer object\n",
        "clf = DecisionTreeClassifier()"
      ],
      "metadata": {
        "id": "0fg11qklTVFH"
      },
      "execution_count": 83,
      "outputs": []
    },
    {
      "cell_type": "code",
      "source": [
        "# Train Decision Tree Classifer\n",
        "clf = clf.fit(X_train,y_train)\n"
      ],
      "metadata": {
        "id": "cwhuv1dXTVIN"
      },
      "execution_count": 84,
      "outputs": []
    },
    {
      "cell_type": "code",
      "source": [
        "#Predict the response for test dataset\n",
        "y_pred = clf.predict(X_test)"
      ],
      "metadata": {
        "id": "4BOXyZdnTeyV"
      },
      "execution_count": 85,
      "outputs": []
    },
    {
      "cell_type": "code",
      "source": [
        "# Model Accuracy, how often is the classifier correct?\n",
        "print(\"Accuracy:\",metrics.accuracy_score(y_test, y_pred))"
      ],
      "metadata": {
        "id": "vkql3PnfTe09",
        "colab": {
          "base_uri": "https://localhost:8080/"
        },
        "outputId": "5a701f3e-84c6-4537-dad1-cfefba15eb38"
      },
      "execution_count": 86,
      "outputs": [
        {
          "output_type": "stream",
          "name": "stdout",
          "text": [
            "Accuracy: 0.5512367491166078\n"
          ]
        }
      ]
    },
    {
      "cell_type": "code",
      "source": [
        "from sklearn.metrics import confusion_matrix\n",
        "from sklearn.metrics import recall_score\n",
        "# y_true: true labels, y_pred: predicted labels\n",
        "cm = confusion_matrix(y_test,y_pred)"
      ],
      "metadata": {
        "id": "YMm9rBeCTe7s"
      },
      "execution_count": 87,
      "outputs": []
    },
    {
      "cell_type": "code",
      "source": [
        "# Print the confusion matrix\n",
        "print(cm)"
      ],
      "metadata": {
        "id": "zRBVJ3RFTujk",
        "colab": {
          "base_uri": "https://localhost:8080/"
        },
        "outputId": "3171e8c4-c3eb-4df4-fb90-073a6e85c7bf"
      },
      "execution_count": 88,
      "outputs": [
        {
          "output_type": "stream",
          "name": "stdout",
          "text": [
            "[[ 42  27   0   2  12  31]\n",
            " [ 17  11   2   1   1   8]\n",
            " [  2   3  96  86   2   4]\n",
            " [  5   6  92  84   2   8]\n",
            " [ 14   8   1   1   6  10]\n",
            " [ 11  15   2   2   6 229]]\n"
          ]
        }
      ]
    },
    {
      "cell_type": "code",
      "source": [
        "from sklearn.metrics import classification_report\n",
        "print(classification_report(y_pred,y_test))\n"
      ],
      "metadata": {
        "id": "85VnSXezTvUQ",
        "colab": {
          "base_uri": "https://localhost:8080/"
        },
        "outputId": "0ad7e3bf-bd33-434d-9ee4-18da10790246"
      },
      "execution_count": 89,
      "outputs": [
        {
          "output_type": "stream",
          "name": "stdout",
          "text": [
            "              precision    recall  f1-score   support\n",
            "\n",
            "           1       0.37      0.46      0.41        91\n",
            "           2       0.28      0.16      0.20        70\n",
            "           3       0.50      0.50      0.50       193\n",
            "           4       0.43      0.48      0.45       176\n",
            "           5       0.15      0.21      0.17        29\n",
            "           6       0.86      0.79      0.83       290\n",
            "\n",
            "    accuracy                           0.55       849\n",
            "   macro avg       0.43      0.43      0.43       849\n",
            "weighted avg       0.56      0.55      0.55       849\n",
            "\n"
          ]
        }
      ]
    },
    {
      "cell_type": "code",
      "source": [
        "from sklearn.metrics import classification_report\n",
        "print(classification_report(y_pred,y_test))\n",
        "TP = cm[0,0]\n",
        "TN = cm[1,1]\n",
        "FP = cm[0,1]\n",
        "FN = cm[1,0]"
      ],
      "metadata": {
        "id": "2JRW-34ATyfb",
        "colab": {
          "base_uri": "https://localhost:8080/"
        },
        "outputId": "167e948e-a75e-4784-ca69-d7316f3cf34c"
      },
      "execution_count": 90,
      "outputs": [
        {
          "output_type": "stream",
          "name": "stdout",
          "text": [
            "              precision    recall  f1-score   support\n",
            "\n",
            "           1       0.37      0.46      0.41        91\n",
            "           2       0.28      0.16      0.20        70\n",
            "           3       0.50      0.50      0.50       193\n",
            "           4       0.43      0.48      0.45       176\n",
            "           5       0.15      0.21      0.17        29\n",
            "           6       0.86      0.79      0.83       290\n",
            "\n",
            "    accuracy                           0.55       849\n",
            "   macro avg       0.43      0.43      0.43       849\n",
            "weighted avg       0.56      0.55      0.55       849\n",
            "\n"
          ]
        }
      ]
    },
    {
      "cell_type": "code",
      "source": [],
      "metadata": {
        "id": "R5HvkSHU0VGI"
      },
      "execution_count": 91,
      "outputs": []
    }
  ],
  "metadata": {
    "colab": {
      "provenance": []
    },
    "gpuClass": "standard",
    "kernelspec": {
      "display_name": "Python 3",
      "name": "python3"
    },
    "language_info": {
      "name": "python"
    }
  },
  "nbformat": 4,
  "nbformat_minor": 0
}